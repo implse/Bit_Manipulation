{
 "cells": [
  {
   "cell_type": "markdown",
   "metadata": {},
   "source": [
    "# Bit Manipulation"
   ]
  },
  {
   "cell_type": "markdown",
   "metadata": {},
   "source": [
    "`Bit manipulation` is the act of algorithmically manipulating `bits` or other pieces of data shorter than a word. (wikipedia)"
   ]
  },
  {
   "cell_type": "markdown",
   "metadata": {},
   "source": [
    "https://en.wikipedia.org/wiki/Bit_manipulation"
   ]
  },
  {
   "cell_type": "markdown",
   "metadata": {},
   "source": [
    "## Bitwise Operations"
   ]
  },
  {
   "cell_type": "markdown",
   "metadata": {},
   "source": [
    " - `&`  : `AND`\n",
    " - `|`  : `OR`\n",
    " - `^`  : `XOR`\n",
    " - `~`  : `NOT`\n",
    " - `<<` : `LEFT SHIFT`\n",
    " - `>>` : `RIGHT SHIFT`"
   ]
  },
  {
   "cell_type": "markdown",
   "metadata": {},
   "source": [
    "## AND"
   ]
  },
  {
   "cell_type": "markdown",
   "metadata": {},
   "source": [
    "The bitwise `AND` (`&`) operator compares two numbers on a `bit` level and returns a number where the `bits` of that number are turned `on` if the corresponding `bits` of both numbers are `1`."
   ]
  },
  {
   "cell_type": "markdown",
   "metadata": {},
   "source": [
    "Only `True` if both input `bits` are `True`."
   ]
  },
  {
   "cell_type": "markdown",
   "metadata": {},
   "source": [
    "` 0 & 0 = 0`\n",
    "\n",
    "` 1 & 0 = 0`\n",
    "\n",
    "` 0 & 1 = 0`\n",
    "\n",
    "` 1 & 1 = 1`"
   ]
  },
  {
   "cell_type": "markdown",
   "metadata": {},
   "source": [
    "### Example of bit manipulation with AND"
   ]
  },
  {
   "cell_type": "markdown",
   "metadata": {},
   "source": [
    "```\n",
    "128| 64| 32| 16| 8 | 4 | 2 | 1 |\n",
    "--------------------------------\n",
    " 1 | 0 | 0 | 1 | 0 | 1 | 1 | 0 |\n",
    "--------------------------------\n",
    " 0 | 0 | 1 | 1 | 0 | 0 | 1 | 0 | & (AND)\n",
    "--------------------------------\n",
    " 0 | 0 | 0 | 1 | 0 | 0 | 1 | 0 |\n",
    " ```"
   ]
  },
  {
   "cell_type": "code",
   "execution_count": 20,
   "metadata": {},
   "outputs": [
    {
     "name": "stdout",
     "output_type": "stream",
     "text": [
      "18 0b10010\n"
     ]
    }
   ],
   "source": [
    "a = int(\"10010110\", 2) # 150\n",
    "b = int(\"00110010\", 2) # 50\n",
    "\n",
    "c = a & b\n",
    "\n",
    "print(c, bin(18))"
   ]
  },
  {
   "cell_type": "markdown",
   "metadata": {},
   "source": [
    "## OR"
   ]
  },
  {
   "cell_type": "markdown",
   "metadata": {},
   "source": [
    "The bitwise `OR` (`|`) operator compares two numbers on a `bit` level and returns a number where the `bits` of that number are turned `on` if either of the corresponding bits of either number are `1`."
   ]
  },
  {
   "cell_type": "markdown",
   "metadata": {},
   "source": [
    "`True` if any input `bit` is `True`."
   ]
  },
  {
   "cell_type": "markdown",
   "metadata": {},
   "source": [
    "` 0 | 0 = 0`\n",
    "\n",
    "` 1 | 0 = 1`\n",
    "\n",
    "` 0 | 1 = 1`\n",
    "\n",
    "` 1 | 1 = 1`"
   ]
  },
  {
   "cell_type": "markdown",
   "metadata": {},
   "source": [
    "### Example of bit manipulation with OR"
   ]
  },
  {
   "cell_type": "markdown",
   "metadata": {},
   "source": [
    "```\n",
    "128| 64| 32| 16| 8 | 4 | 2 | 1 |\n",
    "--------------------------------\n",
    " 1 | 0 | 0 | 1 | 0 | 1 | 1 | 0 |\n",
    "--------------------------------\n",
    " 0 | 0 | 1 | 1 | 0 | 0 | 1 | 0 | | (OR)\n",
    "--------------------------------\n",
    " 1 | 0 | 1 | 1 | 0 | 1 | 1 | 0 |\n",
    "```"
   ]
  },
  {
   "cell_type": "code",
   "execution_count": 19,
   "metadata": {},
   "outputs": [
    {
     "name": "stdout",
     "output_type": "stream",
     "text": [
      "182 0b10110110\n",
      "150\n",
      "50\n"
     ]
    }
   ],
   "source": [
    "a = int(\"10010110\", 2) # 150\n",
    "b = int(\"00110010\", 2) # 50\n",
    "\n",
    "c = a | b\n",
    "\n",
    "print(c, bin(c))"
   ]
  },
  {
   "cell_type": "markdown",
   "metadata": {},
   "source": [
    "## XOR"
   ]
  },
  {
   "cell_type": "markdown",
   "metadata": {},
   "source": [
    "The `XOR` (`^`) or exclusive or operator compares two numbers on a `bit` level and returns a number where the `bits` of that number are turned `on` if either of the corresponding `bits` of the two numbers are `1`, but not both."
   ]
  },
  {
   "cell_type": "markdown",
   "metadata": {},
   "source": [
    "`True` if one and only one input `bit` is `True`."
   ]
  },
  {
   "cell_type": "markdown",
   "metadata": {},
   "source": [
    "`0 ^ 0 = 0`\n",
    "\n",
    "`1 ^ 0 = 1`\n",
    "\n",
    "`0 ^ 1 = 1`\n",
    "\n",
    "`1 ^ 1 = 0`"
   ]
  },
  {
   "cell_type": "markdown",
   "metadata": {},
   "source": [
    "### Example of bit manipulation with XOR"
   ]
  },
  {
   "cell_type": "markdown",
   "metadata": {},
   "source": [
    "```\n",
    "128| 64| 32| 16| 8 | 4 | 2 | 1 |\n",
    "--------------------------------\n",
    " 1 | 0 | 0 | 1 | 0 | 1 | 1 | 0 |\n",
    "--------------------------------\n",
    " 0 | 0 | 1 | 1 | 0 | 0 | 1 | 0 | ^ (XOR)\n",
    "--------------------------------\n",
    " 1 | 0 | 1 | 0 | 0 | 1 | 0 | 0 |\n",
    "```"
   ]
  },
  {
   "cell_type": "code",
   "execution_count": 18,
   "metadata": {},
   "outputs": [
    {
     "name": "stdout",
     "output_type": "stream",
     "text": [
      "164 0b10100100\n"
     ]
    }
   ],
   "source": [
    "a = int(\"10010110\", 2) # 150\n",
    "b = int(\"00110010\", 2) # 50\n",
    "\n",
    "c = a ^ b\n",
    "\n",
    "print(c, bin(c))"
   ]
  },
  {
   "cell_type": "markdown",
   "metadata": {},
   "source": [
    "## NOT"
   ]
  },
  {
   "cell_type": "markdown",
   "metadata": {},
   "source": [
    "One's complement operator. (`~`)"
   ]
  },
  {
   "cell_type": "markdown",
   "metadata": {},
   "source": [
    "Flips the input `bit`."
   ]
  },
  {
   "cell_type": "markdown",
   "metadata": {},
   "source": [
    "`~ 0 = 1`\n",
    "\n",
    "`~ 1 = 0`"
   ]
  },
  {
   "cell_type": "markdown",
   "metadata": {},
   "source": [
    "Mathematically, this is equivalent to adding `one` to the number and then making it `negative`."
   ]
  },
  {
   "cell_type": "markdown",
   "metadata": {},
   "source": [
    "### Example of bit manipulation with NOT"
   ]
  },
  {
   "cell_type": "markdown",
   "metadata": {},
   "source": [
    "```\n",
    "128| 64| 32| 16| 8 | 4 | 2 | 1 |\n",
    "--------------------------------\n",
    " 0 | 0 | 1 | 1 | 0 | 0 | 1 | 0 | ~ (NOT)\n",
    "--------------------------------\n",
    " 1 | 1 | 0 | 0 | 1 | 1 | 0 | 1 |\n",
    "```"
   ]
  },
  {
   "cell_type": "code",
   "execution_count": 1,
   "metadata": {},
   "outputs": [
    {
     "name": "stdout",
     "output_type": "stream",
     "text": [
      "-51 -0b110011\n"
     ]
    }
   ],
   "source": [
    "a = int(\"00110010\", 2) #50\n",
    "b = ~a\n",
    "\n",
    "print(b, bin(b))"
   ]
  },
  {
   "cell_type": "markdown",
   "metadata": {},
   "source": [
    "## BIT SHiIFTING"
   ]
  },
  {
   "cell_type": "markdown",
   "metadata": {},
   "source": [
    "A `bit shift` moves each `digit` in a number's binary representation left or right. "
   ]
  },
  {
   "cell_type": "markdown",
   "metadata": {},
   "source": [
    "### LEFT SHIFT"
   ]
  },
  {
   "cell_type": "markdown",
   "metadata": {},
   "source": [
    "When `shifting left`, the most-significant `bit` is lost, and a `0` bit is padding on the right end. "
   ]
  },
  {
   "cell_type": "markdown",
   "metadata": {},
   "source": [
    "Each `shift` is a multiply by `2`. (unless there's overflow)"
   ]
  },
  {
   "cell_type": "code",
   "execution_count": 8,
   "metadata": {},
   "outputs": [
    {
     "name": "stdout",
     "output_type": "stream",
     "text": [
      "44\n"
     ]
    }
   ],
   "source": [
    "a = int(\"00010110\", 2) # 22\n",
    "b = a << 1 # 00101100\n",
    "print(int(b)) # 44"
   ]
  },
  {
   "cell_type": "markdown",
   "metadata": {},
   "source": [
    "### RIGHT SHIFT"
   ]
  },
  {
   "cell_type": "markdown",
   "metadata": {},
   "source": [
    "When `shifting right`, the least-significant `bit` is lost and a `0` is padding on the left end."
   ]
  },
  {
   "cell_type": "markdown",
   "metadata": {},
   "source": [
    "For `positive numbers`, a single `right shift` divides a number by `2`."
   ]
  },
  {
   "cell_type": "code",
   "execution_count": 4,
   "metadata": {},
   "outputs": [
    {
     "name": "stdout",
     "output_type": "stream",
     "text": [
      "11\n"
     ]
    }
   ],
   "source": [
    "a = int(\"00010110\", 2) # 22\n",
    "b = a >> 1 # 00001011\n",
    "print(int(b)) # 11"
   ]
  },
  {
   "cell_type": "markdown",
   "metadata": {},
   "source": [
    "### Convert an Integer to Binary"
   ]
  },
  {
   "cell_type": "code",
   "execution_count": 1,
   "metadata": {},
   "outputs": [],
   "source": [
    "def convert_to_binary(num):\n",
    "    binary = \"\"\n",
    "    while num > 0:\n",
    "        mod = num % 2\n",
    "        binary += str(mod)\n",
    "        num //= 2\n",
    "    return binary[::-1]"
   ]
  },
  {
   "cell_type": "code",
   "execution_count": 3,
   "metadata": {},
   "outputs": [
    {
     "data": {
      "text/plain": [
       "True"
      ]
     },
     "execution_count": 3,
     "metadata": {},
     "output_type": "execute_result"
    }
   ],
   "source": [
    "convert_to_binary(24) == bin(24)[2:]"
   ]
  },
  {
   "cell_type": "code",
   "execution_count": null,
   "metadata": {},
   "outputs": [],
   "source": []
  }
 ],
 "metadata": {
  "kernelspec": {
   "display_name": "Python 3",
   "language": "python",
   "name": "python3"
  },
  "language_info": {
   "codemirror_mode": {
    "name": "ipython",
    "version": 3
   },
   "file_extension": ".py",
   "mimetype": "text/x-python",
   "name": "python",
   "nbconvert_exporter": "python",
   "pygments_lexer": "ipython3",
   "version": "3.8.5"
  }
 },
 "nbformat": 4,
 "nbformat_minor": 2
}
