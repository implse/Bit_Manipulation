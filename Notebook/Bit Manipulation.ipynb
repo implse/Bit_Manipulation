{
 "cells": [
  {
   "cell_type": "markdown",
   "metadata": {},
   "source": [
    "# Bit Manipulation"
   ]
  },
  {
   "cell_type": "markdown",
   "metadata": {},
   "source": [
    "`Bit manipulation` is the act of algorithmically manipulating `bits` or other pieces of data shorter than a word. (wikipedia)"
   ]
  },
  {
   "cell_type": "markdown",
   "metadata": {},
   "source": [
    "https://en.wikipedia.org/wiki/Bit_manipulation"
   ]
  },
  {
   "cell_type": "markdown",
   "metadata": {},
   "source": [
    "## Bitwise Operations"
   ]
  },
  {
   "cell_type": "markdown",
   "metadata": {},
   "source": [
    " - `&`  : `AND`\n",
    " - `|`  : `OR`\n",
    " - `^`  : `XOR`\n",
    " - `~`  : `NOT`\n",
    " - `<<` : `LEFT SHIFT`\n",
    " - `>>` : `RIGHT SHIFT`"
   ]
  },
  {
   "cell_type": "markdown",
   "metadata": {},
   "source": [
    "## AND"
   ]
  },
  {
   "cell_type": "markdown",
   "metadata": {},
   "source": [
    "The bitwise `AND` (&) operator compares two numbers on a `bit` level and returns a number where the `bits` of that number are turned `on` if the corresponding `bits` of both numbers are `1`."
   ]
  },
  {
   "cell_type": "markdown",
   "metadata": {},
   "source": [
    "Only `True` if both input `bits` are `True`."
   ]
  },
  {
   "cell_type": "markdown",
   "metadata": {},
   "source": [
    "` 0 & 0 = 0`\n",
    "\n",
    "` 1 & 0 = 0`\n",
    "\n",
    "` 0 & 1 = 0`\n",
    "\n",
    "` 1 & 1 = 1`"
   ]
  },
  {
   "cell_type": "markdown",
   "metadata": {},
   "source": [
    "### Example of bit manipulation with AND"
   ]
  },
  {
   "cell_type": "markdown",
   "metadata": {},
   "source": [
    "```\n",
    "128| 64| 32| 16| 8 | 4 | 2 | 1 |\n",
    "--------------------------------\n",
    " 1 | 0 | 0 | 1 | 0 | 1 | 1 | 0 |\n",
    "--------------------------------\n",
    " 0 | 0 | 1 | 1 | 0 | 0 | 1 | 0 | & (AND)\n",
    "--------------------------------\n",
    " 0 | 0 | 0 | 1 | 0 | 0 | 1 | 0 |\n",
    " ```"
   ]
  },
  {
   "cell_type": "code",
   "execution_count": 7,
   "metadata": {},
   "outputs": [
    {
     "name": "stdout",
     "output_type": "stream",
     "text": [
      "18 0b10010\n"
     ]
    }
   ],
   "source": [
    "a = int(\"10010110\", 2)\n",
    "b = int(\"00110010\", 2)\n",
    "\n",
    "c = a & b\n",
    "\n",
    "print(c, bin(18))"
   ]
  },
  {
   "cell_type": "markdown",
   "metadata": {},
   "source": [
    "## OR"
   ]
  },
  {
   "cell_type": "markdown",
   "metadata": {},
   "source": [
    "`True` if any input `bit` is `True`."
   ]
  },
  {
   "cell_type": "markdown",
   "metadata": {},
   "source": [
    "` 0 | 0 = 0`\n",
    "\n",
    "` 1 | 0 = 1`\n",
    "\n",
    "` 0 | 1 = 1`\n",
    "\n",
    "` 1 | 1 = 1`"
   ]
  },
  {
   "cell_type": "markdown",
   "metadata": {},
   "source": [
    "### Example of bit manipulation with OR"
   ]
  },
  {
   "cell_type": "markdown",
   "metadata": {},
   "source": [
    "```\n",
    "128| 64| 32| 16| 8 | 4 | 2 | 1 |\n",
    "--------------------------------\n",
    " 1 | 0 | 0 | 1 | 0 | 1 | 1 | 0 |\n",
    "--------------------------------\n",
    " 0 | 0 | 1 | 1 | 0 | 0 | 1 | 0 | | (OR)\n",
    "--------------------------------\n",
    " 1 | 0 | 1 | 1 | 0 | 1 | 1 | 0 |\n",
    "```"
   ]
  },
  {
   "cell_type": "code",
   "execution_count": 10,
   "metadata": {},
   "outputs": [
    {
     "name": "stdout",
     "output_type": "stream",
     "text": [
      "182 0b10110110\n"
     ]
    }
   ],
   "source": [
    "a = int(\"10010110\", 2)\n",
    "b = int(\"00110010\", 2)\n",
    "\n",
    "c = a | b\n",
    "\n",
    "print(c, bin(c))"
   ]
  },
  {
   "cell_type": "code",
   "execution_count": null,
   "metadata": {},
   "outputs": [],
   "source": []
  }
 ],
 "metadata": {
  "kernelspec": {
   "display_name": "Python 3",
   "language": "python",
   "name": "python3"
  },
  "language_info": {
   "codemirror_mode": {
    "name": "ipython",
    "version": 3
   },
   "file_extension": ".py",
   "mimetype": "text/x-python",
   "name": "python",
   "nbconvert_exporter": "python",
   "pygments_lexer": "ipython3",
   "version": "3.7.3"
  }
 },
 "nbformat": 4,
 "nbformat_minor": 2
}
